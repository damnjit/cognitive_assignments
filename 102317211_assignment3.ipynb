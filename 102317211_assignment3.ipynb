{
  "metadata": {
    "kernelspec": {
      "name": "python",
      "display_name": "Python (Pyodide)",
      "language": "python"
    },
    "language_info": {
      "codemirror_mode": {
        "name": "python",
        "version": 3
      },
      "file_extension": ".py",
      "mimetype": "text/x-python",
      "name": "python",
      "nbconvert_exporter": "python",
      "pygments_lexer": "ipython3",
      "version": "3.8"
    }
  },
  "nbformat_minor": 5,
  "nbformat": 4,
  "cells": [
    {
      "id": "ee844c33-1a18-4873-8e1f-9b6c9363a7d7",
      "cell_type": "raw",
      "source": "1 Create a dataset as follow in the table. ",
      "metadata": {}
    },
    {
      "id": "e312e318-c664-4940-b88f-f3b98afd372f",
      "cell_type": "code",
      "source": "import pandas as pd\n\ndata={\n    \"Tid\":[1,2,3,4,5,6,7,8,9,10],\n    \"Refund\":[\"yes\",\"no\",\"no\",\"yes\",\"no\",\"no\",\"yes\",\"no\",\"no\",\"no\"],\n    \"Martial Status\":[\"single\",\"married\",\"single\",\"married\",\"divorced\",\"married\",\"divorced\",\"single\",\"married\",\"single\"],\n    \"Taxable Income\":[\"125k\",\"100k\",\"70k\",\"120k\",\"95k\",\"60k\",\"220k\",\"85k\",\"75k\",\"90k\"],\n    \"Cheat\":[\"no\",\"no\",\"no\",\"no\",\"yes\",\"no\",\"no\",\"yes\",\"no\",\"yes\"]\n}\ndf=pd.DataFrame(data)\ndf",
      "metadata": {
        "trusted": true
      },
      "outputs": [
        {
          "execution_count": 2,
          "output_type": "execute_result",
          "data": {
            "text/plain": "   Tid Refund Martial Status Taxable Income Cheat\n0    1    yes         single           125k    no\n1    2     no        married           100k    no\n2    3     no         single            70k    no\n3    4    yes        married           120k    no\n4    5     no       divorced            95k   yes\n5    6     no        married            60k    no\n6    7    yes       divorced           220k    no\n7    8     no         single            85k   yes\n8    9     no        married            75k    no\n9   10     no         single            90k   yes",
            "text/html": "<div>\n<style scoped>\n    .dataframe tbody tr th:only-of-type {\n        vertical-align: middle;\n    }\n\n    .dataframe tbody tr th {\n        vertical-align: top;\n    }\n\n    .dataframe thead th {\n        text-align: right;\n    }\n</style>\n<table border=\"1\" class=\"dataframe\">\n  <thead>\n    <tr style=\"text-align: right;\">\n      <th></th>\n      <th>Tid</th>\n      <th>Refund</th>\n      <th>Martial Status</th>\n      <th>Taxable Income</th>\n      <th>Cheat</th>\n    </tr>\n  </thead>\n  <tbody>\n    <tr>\n      <th>0</th>\n      <td>1</td>\n      <td>yes</td>\n      <td>single</td>\n      <td>125k</td>\n      <td>no</td>\n    </tr>\n    <tr>\n      <th>1</th>\n      <td>2</td>\n      <td>no</td>\n      <td>married</td>\n      <td>100k</td>\n      <td>no</td>\n    </tr>\n    <tr>\n      <th>2</th>\n      <td>3</td>\n      <td>no</td>\n      <td>single</td>\n      <td>70k</td>\n      <td>no</td>\n    </tr>\n    <tr>\n      <th>3</th>\n      <td>4</td>\n      <td>yes</td>\n      <td>married</td>\n      <td>120k</td>\n      <td>no</td>\n    </tr>\n    <tr>\n      <th>4</th>\n      <td>5</td>\n      <td>no</td>\n      <td>divorced</td>\n      <td>95k</td>\n      <td>yes</td>\n    </tr>\n    <tr>\n      <th>5</th>\n      <td>6</td>\n      <td>no</td>\n      <td>married</td>\n      <td>60k</td>\n      <td>no</td>\n    </tr>\n    <tr>\n      <th>6</th>\n      <td>7</td>\n      <td>yes</td>\n      <td>divorced</td>\n      <td>220k</td>\n      <td>no</td>\n    </tr>\n    <tr>\n      <th>7</th>\n      <td>8</td>\n      <td>no</td>\n      <td>single</td>\n      <td>85k</td>\n      <td>yes</td>\n    </tr>\n    <tr>\n      <th>8</th>\n      <td>9</td>\n      <td>no</td>\n      <td>married</td>\n      <td>75k</td>\n      <td>no</td>\n    </tr>\n    <tr>\n      <th>9</th>\n      <td>10</td>\n      <td>no</td>\n      <td>single</td>\n      <td>90k</td>\n      <td>yes</td>\n    </tr>\n  </tbody>\n</table>\n</div>"
          },
          "metadata": {}
        }
      ],
      "execution_count": 2
    },
    {
      "id": "27a8acba-5bbe-4cfa-9973-7c8aaf001d25",
      "cell_type": "code",
      "source": "import pandas as pd\n\ndata={\n    \"Tid\":[1,2,3,4,5,6,7,8,9,10],\n    \"Refund\":[\"yes\",\"no\",\"no\",\"yes\",\"no\",\"no\",\"yes\",\"no\",\"no\",\"no\"],\n    \"Martial Status\":[\"single\",\"married\",\"single\",\"married\",\"divorced\",\"married\",\"divorced\",\"single\",\"married\",\"single\"],\n    \"Taxable Income\":[\"125k\",\"100k\",\"70k\",\"120k\",\"95k\",\"60k\",\"220k\",\"85k\",\"75k\",\"90k\"],\n    \"Cheat\":[\"no\",\"no\",\"no\",\"no\",\"yes\",\"no\",\"no\",\"yes\",\"no\",\"yes\"]\n}\ndf=pd.DataFrame(data)\ndf",
      "metadata": {
        "trusted": true
      },
      "outputs": [
        {
          "execution_count": 2,
          "output_type": "execute_result",
          "data": {
            "text/plain": "   Tid Refund Martial Status Taxable Income Cheat\n0    1    yes         single           125k    no\n1    2     no        married           100k    no\n2    3     no         single            70k    no\n3    4    yes        married           120k    no\n4    5     no       divorced            95k   yes\n5    6     no        married            60k    no\n6    7    yes       divorced           220k    no\n7    8     no         single            85k   yes\n8    9     no        married            75k    no\n9   10     no         single            90k   yes",
            "text/html": "<div>\n<style scoped>\n    .dataframe tbody tr th:only-of-type {\n        vertical-align: middle;\n    }\n\n    .dataframe tbody tr th {\n        vertical-align: top;\n    }\n\n    .dataframe thead th {\n        text-align: right;\n    }\n</style>\n<table border=\"1\" class=\"dataframe\">\n  <thead>\n    <tr style=\"text-align: right;\">\n      <th></th>\n      <th>Tid</th>\n      <th>Refund</th>\n      <th>Martial Status</th>\n      <th>Taxable Income</th>\n      <th>Cheat</th>\n    </tr>\n  </thead>\n  <tbody>\n    <tr>\n      <th>0</th>\n      <td>1</td>\n      <td>yes</td>\n      <td>single</td>\n      <td>125k</td>\n      <td>no</td>\n    </tr>\n    <tr>\n      <th>1</th>\n      <td>2</td>\n      <td>no</td>\n      <td>married</td>\n      <td>100k</td>\n      <td>no</td>\n    </tr>\n    <tr>\n      <th>2</th>\n      <td>3</td>\n      <td>no</td>\n      <td>single</td>\n      <td>70k</td>\n      <td>no</td>\n    </tr>\n    <tr>\n      <th>3</th>\n      <td>4</td>\n      <td>yes</td>\n      <td>married</td>\n      <td>120k</td>\n      <td>no</td>\n    </tr>\n    <tr>\n      <th>4</th>\n      <td>5</td>\n      <td>no</td>\n      <td>divorced</td>\n      <td>95k</td>\n      <td>yes</td>\n    </tr>\n    <tr>\n      <th>5</th>\n      <td>6</td>\n      <td>no</td>\n      <td>married</td>\n      <td>60k</td>\n      <td>no</td>\n    </tr>\n    <tr>\n      <th>6</th>\n      <td>7</td>\n      <td>yes</td>\n      <td>divorced</td>\n      <td>220k</td>\n      <td>no</td>\n    </tr>\n    <tr>\n      <th>7</th>\n      <td>8</td>\n      <td>no</td>\n      <td>single</td>\n      <td>85k</td>\n      <td>yes</td>\n    </tr>\n    <tr>\n      <th>8</th>\n      <td>9</td>\n      <td>no</td>\n      <td>married</td>\n      <td>75k</td>\n      <td>no</td>\n    </tr>\n    <tr>\n      <th>9</th>\n      <td>10</td>\n      <td>no</td>\n      <td>single</td>\n      <td>90k</td>\n      <td>yes</td>\n    </tr>\n  </tbody>\n</table>\n</div>"
          },
          "metadata": {}
        }
      ],
      "execution_count": 2
    },
    {
      "id": "a8e037e3-9a2d-4dec-9831-331d24c111fd",
      "cell_type": "code",
      "source": "import pandas as pd\n\ndata={\n    \"Tid\":[1,2,3,4,5,6,7,8,9,10],\n    \"Refund\":[\"yes\",\"no\",\"no\",\"yes\",\"no\",\"no\",\"yes\",\"no\",\"no\",\"no\"],\n    \"Martial Status\":[\"single\",\"married\",\"single\",\"married\",\"divorced\",\"married\",\"divorced\",\"single\",\"married\",\"single\"],\n    \"Taxable Income\":[\"125k\",\"100k\",\"70k\",\"120k\",\"95k\",\"60k\",\"220k\",\"85k\",\"75k\",\"90k\"],\n    \"Cheat\":[\"no\",\"no\",\"no\",\"no\",\"yes\",\"no\",\"no\",\"yes\",\"no\",\"yes\"]\n}\ndf=pd.DataFrame(data)\ndf",
      "metadata": {
        "trusted": true
      },
      "outputs": [
        {
          "execution_count": 2,
          "output_type": "execute_result",
          "data": {
            "text/plain": "   Tid Refund Martial Status Taxable Income Cheat\n0    1    yes         single           125k    no\n1    2     no        married           100k    no\n2    3     no         single            70k    no\n3    4    yes        married           120k    no\n4    5     no       divorced            95k   yes\n5    6     no        married            60k    no\n6    7    yes       divorced           220k    no\n7    8     no         single            85k   yes\n8    9     no        married            75k    no\n9   10     no         single            90k   yes",
            "text/html": "<div>\n<style scoped>\n    .dataframe tbody tr th:only-of-type {\n        vertical-align: middle;\n    }\n\n    .dataframe tbody tr th {\n        vertical-align: top;\n    }\n\n    .dataframe thead th {\n        text-align: right;\n    }\n</style>\n<table border=\"1\" class=\"dataframe\">\n  <thead>\n    <tr style=\"text-align: right;\">\n      <th></th>\n      <th>Tid</th>\n      <th>Refund</th>\n      <th>Martial Status</th>\n      <th>Taxable Income</th>\n      <th>Cheat</th>\n    </tr>\n  </thead>\n  <tbody>\n    <tr>\n      <th>0</th>\n      <td>1</td>\n      <td>yes</td>\n      <td>single</td>\n      <td>125k</td>\n      <td>no</td>\n    </tr>\n    <tr>\n      <th>1</th>\n      <td>2</td>\n      <td>no</td>\n      <td>married</td>\n      <td>100k</td>\n      <td>no</td>\n    </tr>\n    <tr>\n      <th>2</th>\n      <td>3</td>\n      <td>no</td>\n      <td>single</td>\n      <td>70k</td>\n      <td>no</td>\n    </tr>\n    <tr>\n      <th>3</th>\n      <td>4</td>\n      <td>yes</td>\n      <td>married</td>\n      <td>120k</td>\n      <td>no</td>\n    </tr>\n    <tr>\n      <th>4</th>\n      <td>5</td>\n      <td>no</td>\n      <td>divorced</td>\n      <td>95k</td>\n      <td>yes</td>\n    </tr>\n    <tr>\n      <th>5</th>\n      <td>6</td>\n      <td>no</td>\n      <td>married</td>\n      <td>60k</td>\n      <td>no</td>\n    </tr>\n    <tr>\n      <th>6</th>\n      <td>7</td>\n      <td>yes</td>\n      <td>divorced</td>\n      <td>220k</td>\n      <td>no</td>\n    </tr>\n    <tr>\n      <th>7</th>\n      <td>8</td>\n      <td>no</td>\n      <td>single</td>\n      <td>85k</td>\n      <td>yes</td>\n    </tr>\n    <tr>\n      <th>8</th>\n      <td>9</td>\n      <td>no</td>\n      <td>married</td>\n      <td>75k</td>\n      <td>no</td>\n    </tr>\n    <tr>\n      <th>9</th>\n      <td>10</td>\n      <td>no</td>\n      <td>single</td>\n      <td>90k</td>\n      <td>yes</td>\n    </tr>\n  </tbody>\n</table>\n</div>"
          },
          "metadata": {}
        }
      ],
      "execution_count": 2
    },
    {
      "id": "9bf3bdac-44fd-4558-9349-26791cb31317",
      "cell_type": "code",
      "source": " 2. From the above table that you have created, locate row 0, 4, 7 and 8 using DataFrame.",
      "metadata": {
        "trusted": true
      },
      "outputs": [],
      "execution_count": null
    },
    {
      "id": "bee496ed-63a0-4af6-8479-120f9d564bc6",
      "cell_type": "code",
      "source": "print(df.iloc[[0,4,7,8]])",
      "metadata": {
        "trusted": true
      },
      "outputs": [
        {
          "name": "stdout",
          "output_type": "stream",
          "text": "   Tid Refund Martial Status Taxable Income Cheat\n0    1    yes         single           125k    no\n4    5     no       divorced            95k   yes\n7    8     no         single            85k   yes\n8    9     no        married            75k    no\n"
        }
      ],
      "execution_count": 3
    },
    {
      "id": "cc7f54fd-7e00-4598-be51-291b17eb9382",
      "cell_type": "raw",
      "source": "Q3. Navigate the DataFrame and do the following task for the table created in question 1:\n\nSelect row from index 3 to 7.\nSelect row from index 4 to 8, and column 2 to 4.\nSelect all rows with column index 1 to 3 (include index 3 during selection).",
      "metadata": {}
    },
    {
      "id": "93faa200-1c45-43ed-9e98-8ae40fc91f66",
      "cell_type": "code",
      "source": "print(df.iloc[3:8])\nprint(df.iloc[4:9,2:5])\nprint(df.iloc[:,1:4])",
      "metadata": {
        "trusted": true
      },
      "outputs": [
        {
          "name": "stdout",
          "output_type": "stream",
          "text": "   Tid Refund Martial Status Taxable Income Cheat\n3    4    yes        married           120k    no\n4    5     no       divorced            95k   yes\n5    6     no        married            60k    no\n6    7    yes       divorced           220k    no\n7    8     no         single            85k   yes\n  Martial Status Taxable Income Cheat\n4       divorced            95k   yes\n5        married            60k    no\n6       divorced           220k    no\n7         single            85k   yes\n8        married            75k    no\n  Refund Martial Status Taxable Income\n0    yes         single           125k\n1     no        married           100k\n2     no         single            70k\n3    yes        married           120k\n4     no       divorced            95k\n5     no        married            60k\n6    yes       divorced           220k\n7     no         single            85k\n8     no        married            75k\n9     no         single            90k\n"
        }
      ],
      "execution_count": 5
    },
    {
      "id": "23b3e5ff-c3b3-40fb-bb27-46b721387559",
      "cell_type": "code",
      "source": " 4. Read a csv file and display its first five rows.",
      "metadata": {
        "trusted": true
      },
      "outputs": [],
      "execution_count": null
    },
    {
      "id": "376a030e-e482-4c0b-8a82-0754c60cd14c",
      "cell_type": "raw",
      "source": "from google.colab import files\nuploaded = files.upload()\ndf=pd.read_csv(\"Iris.csv\")\nprint(df.head())",
      "metadata": {}
    },
    {
      "id": "a4568f75-afe5-4799-b45d-b50e0695aa63",
      "cell_type": "raw",
      "source": "5 From the csv file (uploaded in the Q.4) delete row 4, and delete column 3. Display the \nresult.  ",
      "metadata": {}
    },
    {
      "id": "ae179d87-1264-4941-9221-d167ac7040e5",
      "cell_type": "code",
      "source": "df.drop(4,axis=0,inplace=True)\ndf.drop(df.columns[3],axis=1,inplace=True)\nprint(df)",
      "metadata": {
        "trusted": true
      },
      "outputs": [
        {
          "name": "stdout",
          "output_type": "stream",
          "text": "   Tid Refund Martial Status Cheat\n0    1    yes         single    no\n1    2     no        married    no\n2    3     no         single    no\n3    4    yes        married    no\n5    6     no        married    no\n6    7    yes       divorced    no\n7    8     no         single   yes\n8    9     no        married    no\n9   10     no         single   yes\n"
        }
      ],
      "execution_count": 9
    },
    {
      "id": "e29fa0cd-3d1e-4356-80a2-cc6761cde836",
      "cell_type": "raw",
      "source": "question 6 in parts",
      "metadata": {}
    },
    {
      "id": "48d7310e-07fd-47a1-9845-ee68786f39cf",
      "cell_type": "raw",
      "source": "a) Shape (number of rows and columns) of the DataFrame.",
      "metadata": {}
    },
    {
      "id": "a9ec753d-58da-4458-8046-8fdb59a5add1",
      "cell_type": "code",
      "source": "data=pd.DataFrame({\n    \"Employee id\":[101,102,103,104,105],\n    \"Name\":[\"Alice\",\"Bob\",\"Charlie\",\"Diana\",\"Edward\"],\n    \"Department\":[\"HR\",\"IT\",\"IT\",\"Marketing\",\"Sales\"],\n    \"Age\":[29,34,41,28,38],\n    \"Salary\":[50000,70000,65000,55000,60000],\n    \"Years_Of_Experience\":[4,8,10,3,12],\n    \"Joining_Date\":[\"2020-03-15\",\"2017-07-19\",\"2013-06-01\",\"2021-02-10\",\"2010-11-25\"],\n    \"Gender\":[\"Female\",\"Male\",\"Male\",\"Female\",\"Male\"],\n    \"Bonus\":[5000,7000,6000,4500,5000],\n    \"Rating\":[4.5,4.0,3.8,4.7,3.5]\n})\nprint(data)",
      "metadata": {
        "trusted": true
      },
      "outputs": [
        {
          "name": "stdout",
          "output_type": "stream",
          "text": "   Employee id     Name Department  Age  Salary  Years_Of_Experience  \\\n0          101    Alice         HR   29   50000                    4   \n1          102      Bob         IT   34   70000                    8   \n2          103  Charlie         IT   41   65000                   10   \n3          104    Diana  Marketing   28   55000                    3   \n4          105   Edward      Sales   38   60000                   12   \n\n  Joining_Date  Gender  Bonus  Rating  \n0   2020-03-15  Female   5000     4.5  \n1   2017-07-19    Male   7000     4.0  \n2   2013-06-01    Male   6000     3.8  \n3   2021-02-10  Female   4500     4.7  \n4   2010-11-25    Male   5000     3.5  \n"
        }
      ],
      "execution_count": 12
    },
    {
      "id": "4341ff46-07ba-4e78-88aa-ea1adc61230f",
      "cell_type": "raw",
      "source": "",
      "metadata": {}
    },
    {
      "id": "f3395312-469d-46bd-9751-a3332b5422df",
      "cell_type": "code",
      "source": "print(data.shape)\nprint(data.info())\nprint(data.describe())",
      "metadata": {
        "trusted": true
      },
      "outputs": [
        {
          "name": "stdout",
          "output_type": "stream",
          "text": "(5, 10)\n<class 'pandas.core.frame.DataFrame'>\nRangeIndex: 5 entries, 0 to 4\nData columns (total 10 columns):\n #   Column               Non-Null Count  Dtype  \n---  ------               --------------  -----  \n 0   Employee id          5 non-null      int64  \n 1   Name                 5 non-null      object \n 2   Department           5 non-null      object \n 3   Age                  5 non-null      int64  \n 4   Salary               5 non-null      int64  \n 5   Years_Of_Experience  5 non-null      int64  \n 6   Joining_Date         5 non-null      object \n 7   Gender               5 non-null      object \n 8   Bonus                5 non-null      int64  \n 9   Rating               5 non-null      float64\ndtypes: float64(1), int64(5), object(4)\nmemory usage: 392.0+ bytes\nNone\n       Employee id        Age       Salary  Years_Of_Experience   Bonus  \\\ncount     5.000000   5.000000      5.00000             5.000000     5.0   \nmean    103.000000  34.000000  60000.00000             7.400000  5500.0   \nstd       1.581139   5.612486   7905.69415             3.847077  1000.0   \nmin     101.000000  28.000000  50000.00000             3.000000  4500.0   \n25%     102.000000  29.000000  55000.00000             4.000000  5000.0   \n50%     103.000000  34.000000  60000.00000             8.000000  5000.0   \n75%     104.000000  38.000000  65000.00000            10.000000  6000.0   \nmax     105.000000  41.000000  70000.00000            12.000000  7000.0   \n\n         Rating  \ncount  5.000000  \nmean   4.100000  \nstd    0.494975  \nmin    3.500000  \n25%    3.800000  \n50%    4.000000  \n75%    4.500000  \nmax    4.700000  \n"
        }
      ],
      "execution_count": 13
    },
    {
      "id": "35806629-7bd5-4851-921c-1ffeea5cecd3",
      "cell_type": "raw",
      "source": "",
      "metadata": {}
    },
    {
      "id": "5942c8cf-67fe-4265-979b-03d0e957e71d",
      "cell_type": "code",
      "source": "print(data.head(5))\nprint(data.tail(3))",
      "metadata": {
        "trusted": true
      },
      "outputs": [
        {
          "name": "stdout",
          "output_type": "stream",
          "text": "   Employee id     Name Department  Age  Salary  Years_Of_Experience  \\\n0          101    Alice         HR   29   50000                    4   \n1          102      Bob         IT   34   70000                    8   \n2          103  Charlie         IT   41   65000                   10   \n3          104    Diana  Marketing   28   55000                    3   \n4          105   Edward      Sales   38   60000                   12   \n\n  Joining_Date  Gender  Bonus  Rating  \n0   2020-03-15  Female   5000     4.5  \n1   2017-07-19    Male   7000     4.0  \n2   2013-06-01    Male   6000     3.8  \n3   2021-02-10  Female   4500     4.7  \n4   2010-11-25    Male   5000     3.5  \n   Employee id     Name Department  Age  Salary  Years_Of_Experience  \\\n2          103  Charlie         IT   41   65000                   10   \n3          104    Diana  Marketing   28   55000                    3   \n4          105   Edward      Sales   38   60000                   12   \n\n  Joining_Date  Gender  Bonus  Rating  \n2   2013-06-01    Male   6000     3.8  \n3   2021-02-10  Female   4500     4.7  \n4   2010-11-25    Male   5000     3.5  \n"
        }
      ],
      "execution_count": 14
    },
    {
      "id": "bf1a4959-d3b6-46b2-99d0-a2c38c879a00",
      "cell_type": "code",
      "source": "avg=data[\"Salary\"].mean()\nprint(avg)\n\nbonus=data[\"Bonus\"].sum()\nprint(bonus)\n\ny=data[\"Age\"].min()\nprint(y)\n\nrat=data[\"Rating\"].max()\nprint(rat)",
      "metadata": {
        "trusted": true
      },
      "outputs": [
        {
          "name": "stdout",
          "output_type": "stream",
          "text": "60000.0\n27500\n28\n4.7\n"
        }
      ],
      "execution_count": 15
    },
    {
      "id": "ed0a2ff3-e9a9-4e30-a868-86d17e1405e9",
      "cell_type": "code",
      "source": "sorted=data.sort_values(by=\"Salary\",ascending=False)\nprint(sorted.head())",
      "metadata": {
        "trusted": true
      },
      "outputs": [
        {
          "name": "stdout",
          "output_type": "stream",
          "text": "   Employee id     Name Department  Age  Salary  Years_Of_Experience  \\\n1          102      Bob         IT   34   70000                    8   \n2          103  Charlie         IT   41   65000                   10   \n4          105   Edward      Sales   38   60000                   12   \n3          104    Diana  Marketing   28   55000                    3   \n0          101    Alice         HR   29   50000                    4   \n\n  Joining_Date  Gender  Bonus  Rating  \n1   2017-07-19    Male   7000     4.0  \n2   2013-06-01    Male   6000     3.8  \n4   2010-11-25    Male   5000     3.5  \n3   2021-02-10  Female   4500     4.7  \n0   2020-03-15  Female   5000     4.5  \n"
        }
      ],
      "execution_count": 16
    },
    {
      "id": "d988fda3-4695-4c1b-86a5-646521adcb96",
      "cell_type": "code",
      "source": "def category(rating):\n  if(rating>=4.5):\n    return \"Excellent\"\n  elif (rating>=4.0 and rating<4.5):\n    return \"Good\"\n  else:\n    return \"Average\"\n\ndata[\"Performance\"]=data[\"Rating\"].apply(category)\nprint(data.head())",
      "metadata": {
        "trusted": true
      },
      "outputs": [
        {
          "name": "stdout",
          "output_type": "stream",
          "text": "   Employee id     Name Department  Age  Salary  Years_Of_Experience  \\\n0          101    Alice         HR   29   50000                    4   \n1          102      Bob         IT   34   70000                    8   \n2          103  Charlie         IT   41   65000                   10   \n3          104    Diana  Marketing   28   55000                    3   \n4          105   Edward      Sales   38   60000                   12   \n\n  Joining_Date  Gender  Bonus  Rating Performance  \n0   2020-03-15  Female   5000     4.5   Excellent  \n1   2017-07-19    Male   7000     4.0        Good  \n2   2013-06-01    Male   6000     3.8     Average  \n3   2021-02-10  Female   4500     4.7   Excellent  \n4   2010-11-25    Male   5000     3.5     Average  \n"
        }
      ],
      "execution_count": 17
    },
    {
      "id": "86419a5f-8ed1-4225-a0ba-255c2a85d141",
      "cell_type": "code",
      "source": "miss=data.isnull()\nprint(miss)",
      "metadata": {
        "trusted": true
      },
      "outputs": [
        {
          "name": "stdout",
          "output_type": "stream",
          "text": "   Employee id   Name  Department    Age  Salary  Years_Of_Experience  \\\n0        False  False       False  False   False                False   \n1        False  False       False  False   False                False   \n2        False  False       False  False   False                False   \n3        False  False       False  False   False                False   \n4        False  False       False  False   False                False   \n\n   Joining_Date  Gender  Bonus  Rating  Performance  \n0         False   False  False   False        False  \n1         False   False  False   False        False  \n2         False   False  False   False        False  \n3         False   False  False   False        False  \n4         False   False  False   False        False  \n"
        }
      ],
      "execution_count": 18
    },
    {
      "id": "3265ede3-3d09-4a72-a1ce-755dc81cd93f",
      "cell_type": "code",
      "source": "data.rename(columns={\"Employee id\":\"ID\"},inplace=True)\nprint(data.head())",
      "metadata": {
        "trusted": true
      },
      "outputs": [
        {
          "name": "stdout",
          "output_type": "stream",
          "text": "    ID     Name Department  Age  Salary  Years_Of_Experience Joining_Date  \\\n0  101    Alice         HR   29   50000                    4   2020-03-15   \n1  102      Bob         IT   34   70000                    8   2017-07-19   \n2  103  Charlie         IT   41   65000                   10   2013-06-01   \n3  104    Diana  Marketing   28   55000                    3   2021-02-10   \n4  105   Edward      Sales   38   60000                   12   2010-11-25   \n\n   Gender  Bonus  Rating Performance  \n0  Female   5000     4.5   Excellent  \n1    Male   7000     4.0        Good  \n2    Male   6000     3.8     Average  \n3  Female   4500     4.7   Excellent  \n4    Male   5000     3.5     Average  \n"
        }
      ],
      "execution_count": 20
    },
    {
      "id": "44d4bf3a-cd3a-48c6-a055-973cde5ee058",
      "cell_type": "code",
      "source": "print(data[\"Years_Of_Experience\"]>5)\nprint(data[\"Department\"]==\"IT\")",
      "metadata": {
        "trusted": true
      },
      "outputs": [
        {
          "name": "stdout",
          "output_type": "stream",
          "text": "0    False\n1     True\n2     True\n3    False\n4     True\nName: Years_Of_Experience, dtype: bool\n0    False\n1     True\n2     True\n3    False\n4    False\nName: Department, dtype: bool\n"
        }
      ],
      "execution_count": 21
    },
    {
      "id": "c97c45c7-b6fa-4dfe-87fe-e263bc09b788",
      "cell_type": "code",
      "source": "filtered_data = data[(data[\"Years_Of_Experience\"] > 5) & (data[\"Department\"] == \"IT\")]\nprint(filtered_data)",
      "metadata": {
        "trusted": true
      },
      "outputs": [
        {
          "name": "stdout",
          "output_type": "stream",
          "text": "    ID     Name Department  Age  Salary  Years_Of_Experience Joining_Date  \\\n1  102      Bob         IT   34   70000                    8   2017-07-19   \n2  103  Charlie         IT   41   65000                   10   2013-06-01   \n\n  Gender  Bonus  Rating Performance  \n1   Male   7000     4.0        Good  \n2   Male   6000     3.8     Average  \n"
        }
      ],
      "execution_count": 22
    },
    {
      "id": "91c0ba2b-9a1b-456c-823b-8ea7dd1371b7",
      "cell_type": "code",
      "source": "data [\"Tax\"]=data[\"Salary\"]*0.10\nprint(data.head())",
      "metadata": {
        "trusted": true
      },
      "outputs": [
        {
          "name": "stdout",
          "output_type": "stream",
          "text": "    ID     Name Department  Age  Salary  Years_Of_Experience Joining_Date  \\\n0  101    Alice         HR   29   50000                    4   2020-03-15   \n1  102      Bob         IT   34   70000                    8   2017-07-19   \n2  103  Charlie         IT   41   65000                   10   2013-06-01   \n3  104    Diana  Marketing   28   55000                    3   2021-02-10   \n4  105   Edward      Sales   38   60000                   12   2010-11-25   \n\n   Gender  Bonus  Rating Performance     Tax  \n0  Female   5000     4.5   Excellent  5000.0  \n1    Male   7000     4.0        Good  7000.0  \n2    Male   6000     3.8     Average  6500.0  \n3  Female   4500     4.7   Excellent  5500.0  \n4    Male   5000     3.5     Average  6000.0  \n"
        }
      ],
      "execution_count": 23
    },
    {
      "id": "9e6bbaed-6ae7-4b00-8f95-d229d56c70d8",
      "cell_type": "code",
      "source": "data.to_csv(\"ans.csv\",index=False)",
      "metadata": {
        "trusted": true
      },
      "outputs": [],
      "execution_count": null
    }
  ]
}