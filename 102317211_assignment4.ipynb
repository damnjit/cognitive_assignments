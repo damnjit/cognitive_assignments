{
  "metadata": {
    "kernelspec": {
      "name": "python",
      "display_name": "Python (Pyodide)",
      "language": "python"
    },
    "language_info": {
      "codemirror_mode": {
        "name": "python",
        "version": 3
      },
      "file_extension": ".py",
      "mimetype": "text/x-python",
      "name": "python",
      "nbconvert_exporter": "python",
      "pygments_lexer": "ipython3",
      "version": "3.8"
    }
  },
  "nbformat_minor": 5,
  "nbformat": 4,
  "cells": [
    {
      "id": "b8a1c691-956f-42b6-94fc-0adefc4c8950",
      "cell_type": "raw",
      "source": "1 Write a program to create a NumPy 1D-array with 5 elements and perform basic operations like: a) Addition of 2 in all the element b) Multiply 3 with all the elements c) Divide every element by 2",
      "metadata": {}
    },
    {
      "id": "5b3d7562-8dbe-4dc7-b5cc-db9504e4edeb",
      "cell_type": "code",
      "source": "import numpy as np\n\narray = np.array([1, 2, 3, 4, 5])\n\nadded_array = array + 2\nprint(\"Array after adding 2:\", added_array)\n\nmultiplied_array = array * 3\nprint(\"Array after multiplying by 3:\", multiplied_array)\n\ndivided_array = array / 2\nprint(\"Array after dividing by 2:\", divided_array)",
      "metadata": {
        "trusted": true
      },
      "outputs": [
        {
          "name": "stdout",
          "output_type": "stream",
          "text": "Array after adding 2: [3 4 5 6 7]\nArray after multiplying by 3: [ 3  6  9 12 15]\nArray after dividing by 2: [0.5 1.  1.5 2.  2.5]\n"
        }
      ],
      "execution_count": 1
    },
    {
      "id": "48906ea1-af6f-4e1b-b739-a061805223fa",
      "cell_type": "raw",
      "source": "2 Questions on Basic NumPy Array: a) Reverse the NumPy array: arr = np.array([1, 2, 3, 6, 4, 5]) b) Find the most frequent value and their indice(s) in the following arrays: i. x = np.array([1,2,3,4,5,1,2,1,1,1]) ii. y = np.array([1, 1, 1, 2, 3, 4, 2, 4, 3, 3, ])",
      "metadata": {}
    },
    {
      "id": "cb202614-6ee7-4b9b-b01e-a9ee9d349588",
      "cell_type": "code",
      "source": "import numpy as np\n\narr = np.array([1, 2, 3, 6, 4, 5])\n\n# Reversing\nreversed_arr = arr[::-1]\nprint(\"Reversed array:\", reversed_arr)\n\nx = np.array([1,2,3,4,5,1,2,1,1,1])\n\n#Most frequent value FOR X\nunique, counts = np.unique(x, return_counts=True)\nmost_frequent_value = unique[np.argmax(counts)]\n\n# Indices of most frequent value\nindices = np.where(x == most_frequent_value)[0]\nprint(\"Most frequent value in x:\", most_frequent_value)\nprint(\"Indices:\", indices)\n\ny = np.array([1, 1, 1, 2, 3, 4, 2, 4, 3, 3])\n\n# Most frequent value FOR Y\nunique, counts = np.unique(y, return_counts=True)\nmost_frequent_value = unique[np.argmax(counts)]\n\n# Indices of most frequent value\nindices = np.where(y == most_frequent_value)[0]\n\nprint(\"Most frequent value in y:\", most_frequent_value)\nprint(\"Indices:\", indices)\n",
      "metadata": {
        "trusted": true
      },
      "outputs": [
        {
          "name": "stdout",
          "output_type": "stream",
          "text": "Reversed array: [5 4 6 3 2 1]\nMost frequent value in x: 1\nIndices: [0 5 7 8 9]\nMost frequent value in y: 1\nIndices: [0 1 2]\n"
        }
      ],
      "execution_count": 3
    },
    {
      "id": "b9cbc798-0eee-42f7-9799-82e4b97b9c75",
      "cell_type": "raw",
      "source": "3 For the given 2-D array arr=np.array([10, 20, 30], [40, 50, 60], [70, 80, 90]), access elements using row and column indices as follows: a) Access 1st row, 2nd column b) Access 3rd row, 1st column",
      "metadata": {}
    },
    {
      "id": "db861258-bad6-40b3-a395-ab0739ac1bea",
      "cell_type": "code",
      "source": "import numpy as np\n\narr = np.array([[10, 20, 30],\n                 [40, 50, 60],\n                 [70, 80, 90]])\n\nelement_a = arr[0, 1]\nprint(\"Element at 1st row and 2nd column:\", element_a)\n\nelement_b = arr[2, 0]\nprint(\"Element at 3rd row and 1st column:\", element_b)",
      "metadata": {
        "trusted": true
      },
      "outputs": [
        {
          "name": "stdout",
          "output_type": "stream",
          "text": "Element at 1st row and 2nd column: 20\nElement at 3rd row and 1st column: 70\n"
        }
      ],
      "execution_count": 4
    },
    {
      "id": "9bb0206b-7cfe-4f92-aaf8-4225780dfeb2",
      "cell_type": "markdown",
      "source": "4 Write program to create an 1-D NumPy array named <> with evenly spaced 25 numbers from 10 to 100 using linspace(). Print the dimensions of the array, shape, total elements, the data type of each element and total number of bytes consumed by the array. Find the transpose of this array using reshape() attribute. Can we do the same with T attribute?",
      "metadata": {}
    },
    {
      "id": "95e8821e-2a18-458b-b97e-0cff803a2b98",
      "cell_type": "code",
      "source": "import numpy as np\n\narray = np.linspace(10, 100, 25)\n\nprint(\"Dimensions of the array:\", array.ndim)\nprint(\"Shape of the array:\", array.shape)\nprint(\"Total elements in the array:\", array.size)\nprint(\"Data type of each element:\", array.dtype)\nprint(\"Total number of bytes consumed by the array:\", array.nbytes)\n\ntransposed_array_reshape = array.reshape(25, 1)\nprint(\"Transposed array using reshape():\\n\", transposed_array_reshape)\n\ntransposed_array_T = array.T\nprint(\"Transposed array using T attribute:\\n\", transposed_array_T)",
      "metadata": {
        "trusted": true
      },
      "outputs": [
        {
          "name": "stdout",
          "output_type": "stream",
          "text": "Dimensions of the array: 1\nShape of the array: (25,)\nTotal elements in the array: 25\nData type of each element: float64\nTotal number of bytes consumed by the array: 200\nTransposed array using reshape():\n [[ 10.  ]\n [ 13.75]\n [ 17.5 ]\n [ 21.25]\n [ 25.  ]\n [ 28.75]\n [ 32.5 ]\n [ 36.25]\n [ 40.  ]\n [ 43.75]\n [ 47.5 ]\n [ 51.25]\n [ 55.  ]\n [ 58.75]\n [ 62.5 ]\n [ 66.25]\n [ 70.  ]\n [ 73.75]\n [ 77.5 ]\n [ 81.25]\n [ 85.  ]\n [ 88.75]\n [ 92.5 ]\n [ 96.25]\n [100.  ]]\nTransposed array using T attribute:\n [ 10.    13.75  17.5   21.25  25.    28.75  32.5   36.25  40.    43.75\n  47.5   51.25  55.    58.75  62.5   66.25  70.    73.75  77.5   81.25\n  85.    88.75  92.5   96.25 100.  ]\n"
        }
      ],
      "execution_count": 5
    },
    {
      "id": "ba07d570-b981-40cd-a261-c261f797179c",
      "cell_type": "raw",
      "source": "5. Create a 2-D Array of three rows and four columns, named ucs420_<your_name>> with following values – 10, 20, 30, 40, 50, 60, 70, 80, 90, 15, 20, 35. Compute the mean, median, max, min, unique elements. Reshape the array to four rows and three columns and name it as reshaped_ ucs420_<your_name>>. Resize the array to two rows and three columns and name it as resized_ ucs420_<your_name>>",
      "metadata": {}
    },
    {
      "id": "f248d496-839a-44fa-a8a9-81f03226e9ad",
      "cell_type": "code",
      "source": "import numpy as np\n\narray = np.array([[10, 20, 30, 40],\n                  [50, 60, 70, 80],\n                  [90, 15, 20, 35]])\n\nmean_value = np.mean(array)\nmedian_value = np.median(array)\nmax_value = np.max(array)\nmin_value = np.min(array)\nunique_elements = np.unique(array)\n\nprint(\"Mean:\", mean_value)\nprint(\"Median:\", median_value)\nprint(\"Max:\", max_value)\nprint(\"Min:\", min_value)\nprint(\"Unique elements:\", unique_elements)\n\nreshaped_array = array.reshape(4, 3)\nprint(\"Reshaped array 4 rows, 3 columns:\\n\", reshaped_array)\n\nresized_array = np.resize(array, (2, 3))\nprint(\"Resized array 2 rows, 3 columns:\\n\", resized_array)",
      "metadata": {
        "trusted": true
      },
      "outputs": [
        {
          "name": "stdout",
          "output_type": "stream",
          "text": "Mean: 43.333333333333336\nMedian: 37.5\nMax: 90\nMin: 10\nUnique elements: [10 15 20 30 35 40 50 60 70 80 90]\nReshaped array 4 rows, 3 columns:\n [[10 20 30]\n [40 50 60]\n [70 80 90]\n [15 20 35]]\nResized array 2 rows, 3 columns:\n [[10 20 30]\n [40 50 60]]\n"
        }
      ],
      "execution_count": 7
    },
    {
      "id": "812e4e86-a8db-455c-ada0-8a155c60dc26",
      "cell_type": "code",
      "source": "",
      "metadata": {
        "trusted": true
      },
      "outputs": [],
      "execution_count": null
    }
  ]
}