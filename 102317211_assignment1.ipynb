{
 "cells": [
  {
   "cell_type": "code",
   "execution_count": 1,
   "id": "9d3aedf0-97e3-485e-9bd0-84423c0fff5b",
   "metadata": {},
   "outputs": [
    {
     "name": "stdout",
     "output_type": "stream",
     "text": [
      "Anything you find cool\n"
     ]
    }
   ],
   "source": [
    "#1 Write a Python program to print \"Anything You find cool.\"\n",
    "print(\"Anything you find cool\")"
   ]
  },
  {
   "cell_type": "code",
   "execution_count": 3,
   "id": "96c06bd8-1afd-4df6-9beb-54e079ca1c21",
   "metadata": {},
   "outputs": [
    {
     "name": "stdin",
     "output_type": "stream",
     "text": [
      "enter 1st no: 4\n",
      "enter 2nd no: 33\n"
     ]
    },
    {
     "name": "stdout",
     "output_type": "stream",
     "text": [
      "37\n"
     ]
    }
   ],
   "source": [
    "#2.1 Write a program to add two numbers and print the result.\n",
    "a = int(input(\"enter 1st no:\"))\n",
    "b = int(input(\"enter 2nd no:\"))\n",
    "sum = a + b\n",
    "print(sum)"
   ]
  },
  {
   "cell_type": "code",
   "execution_count": 168,
   "id": "bf975e70-e302-4607-b8c1-fe10f7243579",
   "metadata": {
    "scrolled": true
   },
   "outputs": [
    {
     "name": "stdin",
     "output_type": "stream",
     "text": [
      "enter your 1st string:  avnoor\n",
      "enter your 2nd string:  kamboj\n"
     ]
    },
    {
     "name": "stdout",
     "output_type": "stream",
     "text": [
      "avnoor kamboj\n"
     ]
    }
   ],
   "source": [
    "#2.2 Write a program to concatenate two strings and print the result.\n",
    "a = input(\"enter your 1st string: \")\n",
    "b = input(\"enter your 2nd string: \")\n",
    "c = a +\" \"+ b\n",
    "print(c)"
   ]
  },
  {
   "cell_type": "code",
   "execution_count": 169,
   "id": "3313061f-c7e7-4081-ae5f-ceee1b82c29e",
   "metadata": {},
   "outputs": [
    {
     "name": "stdout",
     "output_type": "stream",
     "text": [
      "hello im avnoor18\n"
     ]
    }
   ],
   "source": [
    "# 2.3 Write a program to concatenate a string and a number and print the result.\n",
    "str1 = \"hello im avnoor\"\n",
    "number = 18\n",
    "print(str1 + str(number))"
   ]
  },
  {
   "cell_type": "code",
   "execution_count": 170,
   "id": "52b4d950-d5c0-4624-b873-5621dc9038ad",
   "metadata": {},
   "outputs": [
    {
     "name": "stdin",
     "output_type": "stream",
     "text": [
      "enter your number:  34\n"
     ]
    },
    {
     "name": "stdout",
     "output_type": "stream",
     "text": [
      "a is positive\n"
     ]
    }
   ],
   "source": [
    "# 3.1 Write a Python program to check if a number is positive, negative, or zero using an if-else statement.\n",
    "a = int(input(\"enter your number: \"))\n",
    "if (a>0):\n",
    "    print(\"a is positive\")\n",
    "elif (a<0):\n",
    "    print(\"a is negative\")\n",
    "else:\n",
    "    print(\"a is zero\")"
   ]
  },
  {
   "cell_type": "code",
   "execution_count": 171,
   "id": "6f3dfa68-afd3-49b7-b3b5-3e8b63b8ede7",
   "metadata": {},
   "outputs": [
    {
     "name": "stdin",
     "output_type": "stream",
     "text": [
      "enter your number:  56\n"
     ]
    },
    {
     "name": "stdout",
     "output_type": "stream",
     "text": [
      "no. is even\n"
     ]
    }
   ],
   "source": [
    "#  3.2 Write a program to check if a given number is odd or even.\n",
    "a = int(input(\"enter your number: \"))\n",
    "if(a%2==0):\n",
    "    print(\"no. is even\")\n",
    "else:\n",
    "    print(\"no. is odd\")"
   ]
  },
  {
   "cell_type": "code",
   "execution_count": 172,
   "id": "b8c02b40-2d8c-460a-8970-b02e302e0122",
   "metadata": {},
   "outputs": [
    {
     "name": "stdout",
     "output_type": "stream",
     "text": [
      "1\n",
      "2\n",
      "3\n",
      "4\n",
      "5\n",
      "6\n",
      "7\n",
      "8\n",
      "9\n",
      "10\n"
     ]
    }
   ],
   "source": [
    "#4.1 Write a program to print numbers from 1 to 10 using a for loop\n",
    "for i in range(1,11):\n",
    "  print(i)"
   ]
  },
  {
   "cell_type": "code",
   "execution_count": 173,
   "id": "24281f90-c86a-4436-8e33-0e292480233b",
   "metadata": {},
   "outputs": [
    {
     "name": "stdout",
     "output_type": "stream",
     "text": [
      "1\n",
      "2\n",
      "3\n",
      "4\n",
      "5\n",
      "6\n",
      "7\n",
      "8\n",
      "9\n",
      "10\n"
     ]
    }
   ],
   "source": [
    "#4.2 Write a program to print numbers from 1 to 10 using a while loop\n",
    "i = 1\n",
    "while(i<=10):\n",
    "    print(i)\n",
    "    i=i+1"
   ]
  },
  {
   "cell_type": "code",
   "execution_count": 174,
   "id": "6fb85d18-1650-4298-ab2b-11621da9603b",
   "metadata": {},
   "outputs": [
    {
     "name": "stdout",
     "output_type": "stream",
     "text": [
      "5050\n"
     ]
    }
   ],
   "source": [
    "#4.3 Write a program to calculate the sum of numbers from 1 to 100 using a loop\n",
    "sum = 0\n",
    "for i in range(1,101):\n",
    "    sum= sum+i\n",
    "print(sum)"
   ]
  },
  {
   "cell_type": "code",
   "execution_count": 175,
   "id": "32e5f922-e0d8-4407-b303-5ec4e89a9410",
   "metadata": {},
   "outputs": [
    {
     "name": "stdout",
     "output_type": "stream",
     "text": [
      "10\n",
      "64\n"
     ]
    }
   ],
   "source": [
    "#5.1 Create a list of 5 numbers. Write a program to find the largest and smallest numbers in the list\n",
    "list = [10,13,64,21,19]\n",
    "print(min(list))\n",
    "print(max(list))"
   ]
  },
  {
   "cell_type": "code",
   "execution_count": 176,
   "id": "bbb6355b-a27f-4c32-b9aa-7211f6b93ecc",
   "metadata": {},
   "outputs": [
    {
     "name": "stdout",
     "output_type": "stream",
     "text": [
      "2nd\n"
     ]
    }
   ],
   "source": [
    "#5.2 Create a dictionary with at least 3 key-value pairs. Write a program to retrieve the value of a given key.\n",
    "dict1 = {\n",
    "    \"avnoor\":\"1st\",\n",
    "    \"garima\":\"2nd\",\n",
    "    \"shriya\":\"3rd\"\n",
    "}\n",
    "print(dict1[\"garima\"])"
   ]
  },
  {
   "cell_type": "code",
   "execution_count": 177,
   "id": "00244a2f-c2ab-49bc-ae86-81878180569a",
   "metadata": {},
   "outputs": [
    {
     "name": "stdout",
     "output_type": "stream",
     "text": [
      "[13, 14, 32, 54, 76, 86]\n",
      "[86, 76, 54, 32, 14, 13]\n"
     ]
    }
   ],
   "source": [
    "# 5.3 Write a program to sort a list of numbers in ascending and descending order\n",
    "mylist = [13,14,54,32,86,76]\n",
    "mylist.sort()\n",
    "print(mylist)\n",
    "mylist.reverse()\n",
    "print(mylist)"
   ]
  },
  {
   "cell_type": "code",
   "execution_count": 178,
   "id": "3502a2bc-04ba-434c-a5a2-bb98f5a6acfa",
   "metadata": {},
   "outputs": [
    {
     "name": "stdout",
     "output_type": "stream",
     "text": [
      "merged dictionary is :  {'avnoor': '1st', 'khushi': '2nd', 'shiva': '3rd', 'karan': '4th'}\n"
     ]
    }
   ],
   "source": [
    "#5.4 Write a program to merge two dictionaries into one.\n",
    "dict1 = {\"avnoor\":\"1st\" , \"khushi\":\"2nd\"}\n",
    "dict2 = {\"shiva\":\"3rd\" , \"karan\":\"4th\"}\n",
    "dict1.update(dict2)\n",
    "print(\"merged dictionary is : \" , dict1)\n",
    "# or by using merge keyword"
   ]
  },
  {
   "cell_type": "code",
   "execution_count": 5,
   "id": "d500bead-3022-4de0-a083-d9289eb8b295",
   "metadata": {},
   "outputs": [
    {
     "name": "stdin",
     "output_type": "stream",
     "text": [
      "enter your string:  hi\n"
     ]
    },
    {
     "name": "stdout",
     "output_type": "stream",
     "text": [
      "1\n"
     ]
    }
   ],
   "source": [
    "# 6.1 Write a program to count the number of vowels in a given string\n",
    "string = input(\"enter your string: \")\n",
    "length = len(string)\n",
    "count = 0\n",
    "for i in range(0,length):\n",
    "    if(string[i]==\"a\" or string[i]==\"e\" or string[i]==\"i\" or string[i]==\"o\" or string[i]==\"u\" ):\n",
    "        count = count + 1 \n",
    "print(count)"
   ]
  },
  {
   "cell_type": "code",
   "execution_count": 7,
   "id": "4e352975-ee27-40ed-a341-607492dd3c30",
   "metadata": {},
   "outputs": [
    {
     "name": "stdin",
     "output_type": "stream",
     "text": [
      "input your string:  hello\n"
     ]
    },
    {
     "name": "stdout",
     "output_type": "stream",
     "text": [
      "Reversed string is : olleh\n"
     ]
    }
   ],
   "source": [
    "#6.2 Write a program to reverse a string and print it\n",
    "def reverse_string(s):\n",
    "    return s[::-1]\n",
    "string = input(\"input your string: \")\n",
    "reversed_string = reverse_string(string)\n",
    "print(\"Reversed string is :\", reversed_string)"
   ]
  },
  {
   "cell_type": "code",
   "execution_count": 9,
   "id": "1bf86888-ed6f-47c0-892a-bfeb65d5b942",
   "metadata": {},
   "outputs": [
    {
     "name": "stdin",
     "output_type": "stream",
     "text": [
      "input your string:  tree\n"
     ]
    },
    {
     "name": "stdout",
     "output_type": "stream",
     "text": [
      "not a palindrome\n"
     ]
    }
   ],
   "source": [
    "# 6.3  Write a program to check if a string is a palindrome.\n",
    "def reverse_string(s):\n",
    "    return s[::-1]\n",
    "string = input(\"input your string: \")\n",
    "reversed_string = reverse_string(string)\n",
    "\n",
    "if(string==reversed_string):\n",
    "    print(\"it is a palindrome\")\n",
    "else:\n",
    "    print(\"not a palindrome\")"
   ]
  },
  {
   "cell_type": "code",
   "execution_count": 11,
   "id": "7f08c4a0-d262-4e06-9675-1c1377b821c8",
   "metadata": {},
   "outputs": [
    {
     "name": "stdout",
     "output_type": "stream",
     "text": [
      "hello, this is avnoor\n"
     ]
    }
   ],
   "source": [
    "#7.1 Write a program to create a text file, write some text into it, and then read and print the content.\n",
    "with open(\"new1.txt\", \"w\") as f:\n",
    "    f.write(\"hello, this is avnoor\")\n",
    "with open(\"new1.txt\", \"r\") as f:\n",
    "    data = f.read()\n",
    "    print(data)"
   ]
  },
  {
   "cell_type": "code",
   "execution_count": 13,
   "id": "db471a5a-fb2f-454f-8fa1-a491570053a6",
   "metadata": {},
   "outputs": [
    {
     "name": "stdout",
     "output_type": "stream",
     "text": [
      "python world\n",
      "hello worldpython world\n",
      "python world\n",
      "python world\n",
      "\n"
     ]
    }
   ],
   "source": [
    "#7.2 Write a program to append text to an existing file and print the updated content\n",
    "with open(\"sample.txt\", \"a+\") as f:\n",
    "    f.write(\"python world\\n\")\n",
    "    f.seek(0)\n",
    "    data = f.read()\n",
    "\n",
    "print(data)"
   ]
  },
  {
   "cell_type": "code",
   "execution_count": 15,
   "id": "5633fc32-f7bd-467b-85d1-50e2058a7ee0",
   "metadata": {},
   "outputs": [
    {
     "name": "stdout",
     "output_type": "stream",
     "text": [
      "4\n"
     ]
    }
   ],
   "source": [
    "# 7.3 Write a program to count the number of lines in a text file.\n",
    "with open(\"sample.txt\", \"r\") as f:\n",
    "    lines = f.readlines()\n",
    "    print(len(lines))"
   ]
  },
  {
   "cell_type": "code",
   "execution_count": 17,
   "id": "56fac40e-6451-444f-acf7-d3e98d706e1e",
   "metadata": {},
   "outputs": [
    {
     "name": "stdin",
     "output_type": "stream",
     "text": [
      "enter numerator: 56\n",
      "enter denominator:  0\n"
     ]
    },
    {
     "name": "stdout",
     "output_type": "stream",
     "text": [
      "infinite\n"
     ]
    }
   ],
   "source": [
    "# 8.1 Write a program to handle division by zero using a try-except block.\n",
    "try:\n",
    "   a = int(input(\"enter numerator:\"))\n",
    "   b = int(input(\"enter denominator: \"))\n",
    "   answer = a/b\n",
    "   print(answer)\n",
    "except ZeroDivisionError as e:\n",
    "    print(\"infinite\")"
   ]
  },
  {
   "cell_type": "code",
   "execution_count": 19,
   "id": "27a6ea5f-135d-46f5-a891-8722b8764620",
   "metadata": {},
   "outputs": [
    {
     "name": "stdin",
     "output_type": "stream",
     "text": [
      "enter your number:  hello\n"
     ]
    },
    {
     "name": "stdout",
     "output_type": "stream",
     "text": [
      "please enter a valid number\n"
     ]
    }
   ],
   "source": [
    "#8.2  Write a program to handle invalid input (e.g., when the user enters a string instead of a number)\n",
    "try:\n",
    "    a= int(input(\"enter your number: \"))\n",
    "    print(\"valid\", a)\n",
    "except :\n",
    "    print(\"please enter a valid number\")"
   ]
  },
  {
   "cell_type": "code",
   "execution_count": 21,
   "id": "b3230b39-1112-425a-81c3-8e8aafa4cd75",
   "metadata": {},
   "outputs": [
    {
     "name": "stdin",
     "output_type": "stream",
     "text": [
      "enter numerator: 45\n",
      "Enter denominator: 5\n"
     ]
    },
    {
     "name": "stdout",
     "output_type": "stream",
     "text": [
      "division is:  9.0\n",
      "division is successfull\n"
     ]
    }
   ],
   "source": [
    "#8.3 Write a program to demonstrate the use of finally in exception handling\n",
    "try:\n",
    "    a = int(input(\"enter numerator:\"))\n",
    "    b = int(input(\"Enter denominator:\"))\n",
    "    div = a/b\n",
    "except ZeroDivisionError:\n",
    "    print(\"your denominator is zero which is not valid\")\n",
    "else: \n",
    "    print(\"division is: \", div)\n",
    "finally: \n",
    "    print(\"division is successfull\")"
   ]
  },
  {
   "cell_type": "code",
   "execution_count": 23,
   "id": "d00bfd76-d732-44cf-9631-e78d5301edc5",
   "metadata": {},
   "outputs": [
    {
     "name": "stdout",
     "output_type": "stream",
     "text": [
      "29\n",
      "34\n",
      "13\n",
      "43\n",
      "67\n"
     ]
    }
   ],
   "source": [
    "#9.1 Write a program to generate 5 random numbers between 1 and 100 and print them\n",
    "import random \n",
    "for i in range(1,6):\n",
    "    print(random.randint(1,100))"
   ]
  },
  {
   "cell_type": "code",
   "execution_count": 25,
   "id": "e16b1270-fd30-47df-bb69-d6f2e64fe1af",
   "metadata": {},
   "outputs": [
    {
     "name": "stdout",
     "output_type": "stream",
     "text": [
      "random no generated is:  94\n",
      "94 is not a prime number.\n"
     ]
    }
   ],
   "source": [
    "#9.2 Write a program to generate a random number and check if it is prime\n",
    "import random\n",
    "\n",
    "def is_prime(num):\n",
    "    if (num<=1):\n",
    "        return False\n",
    "        \n",
    "    for i in range(2,num):\n",
    "        if (num % i == 0):\n",
    "            return False;\n",
    "    else :\n",
    "        return True\n",
    "a = random.randint(1,100)\n",
    "print(\"random no generated is: \", a)\n",
    "\n",
    "if is_prime(a):\n",
    "    print(f\"{a} is a prime number.\")\n",
    "else:\n",
    "    print(f\"{a} is not a prime number.\")"
   ]
  },
  {
   "cell_type": "code",
   "execution_count": 27,
   "id": "82e50c97-7379-4ebd-a7e6-742758ad50be",
   "metadata": {},
   "outputs": [
    {
     "name": "stdout",
     "output_type": "stream",
     "text": [
      "3\n"
     ]
    }
   ],
   "source": [
    "#9.3  Write a program to simulate rolling a six-sided die\n",
    "import random \n",
    "roll=random.randint(1,6)\n",
    "print(roll)"
   ]
  },
  {
   "cell_type": "code",
   "execution_count": 29,
   "id": "716a2dd3-7ac5-40da-ae42-165976b0c332",
   "metadata": {},
   "outputs": [
    {
     "name": "stdout",
     "output_type": "stream",
     "text": [
      "[12, 13, 14, 15, 16, 17]\n",
      "[17, 16, 15, 12, 13, 14]\n"
     ]
    }
   ],
   "source": [
    "#9.4 Write a program to shuffle a list of numbers.\n",
    "import random\n",
    "list=[12,13,14,15,16,17]\n",
    "print(list)\n",
    "random.shuffle(list)\n",
    "print(list)"
   ]
  },
  {
   "cell_type": "code",
   "execution_count": 31,
   "id": "6f651c25-0500-485f-88e4-513b2604a7cb",
   "metadata": {},
   "outputs": [
    {
     "name": "stdout",
     "output_type": "stream",
     "text": [
      "strawberry\n"
     ]
    }
   ],
   "source": [
    "#9.5  Write a program to randomly select an item from a list\n",
    "import random as r\n",
    "list=['apple','mango','banana','kiwi','strawberry']\n",
    "item = r.choice(list)\n",
    "print(item)"
   ]
  },
  {
   "cell_type": "code",
   "execution_count": 33,
   "id": "62b0d364-b785-4e04-8d7a-d3e459646304",
   "metadata": {},
   "outputs": [
    {
     "name": "stdin",
     "output_type": "stream",
     "text": [
      "enter length :  6\n"
     ]
    },
    {
     "name": "stdout",
     "output_type": "stream",
     "text": [
      "nsrdku\n"
     ]
    }
   ],
   "source": [
    "#9.6 Write a program to generate a random password of given length. \n",
    "import random as r\n",
    "len = int(input(\"enter length : \"))\n",
    "characters=\"abcdefghijklmnopqrstuvwxyz\"\n",
    "password=\"\".join(r.choice(characters) for i in range(len))\n",
    "print(password)"
   ]
  },
  {
   "cell_type": "code",
   "execution_count": 35,
   "id": "0beb2ec4-e151-4300-83c9-b6b58040bdf0",
   "metadata": {},
   "outputs": [
    {
     "name": "stdout",
     "output_type": "stream",
     "text": [
      "Spades 10\n"
     ]
    }
   ],
   "source": [
    "#9.7  Write a program to pick a random card from a standard deck of 52 cards\n",
    "import random as r\n",
    "symbols = [\"Hearts\", \"Diamonds\", \"Clubs\", \"Spades\"]\n",
    "ranks = [\"2\", \"3\", \"4\", \"5\", \"6\", \"7\", \"8\", \"9\", \"10\", \"Jack\", \"Queen\", \"King\", \"Ace\"]\n",
    "\n",
    "first =r.choice(symbols)\n",
    "second =r.choice(ranks)\n",
    "card=first + \" \" + second\n",
    "print(card)"
   ]
  },
  {
   "cell_type": "code",
   "execution_count": null,
   "id": "6282d496-8d4b-45d0-b91f-25828866597f",
   "metadata": {},
   "outputs": [],
   "source": [
    "#10.1 Write a program to accept two numbers as command-line arguments, add them, and print the result.\n",
    "\n",
    "import sys\n",
    "\n",
    "if len(sys.argv) != 3:\n",
    "  print(\"Usage: python script_name.py  \")\n",
    "  sys.exit(1)\n",
    "number1 = float(sys.argv[1])\n",
    "number2 = float(sys.argv[2])\n",
    "result = number1 + number2\n",
    "print(f'Sum of {number1} and {number2} is {result}')"
   ]
  },
  {
   "cell_type": "code",
   "execution_count": null,
   "id": "f775197c-8d9e-40d8-8fda-316e9378e6a2",
   "metadata": {},
   "outputs": [],
   "source": [
    "# 10.2 Write a program to accept a string as a command-line argument and print its length.\n",
    "import sys\n",
    "string = sys.argv[1]\n",
    "print(\"Length of string:\", len(string))"
   ]
  },
  {
   "cell_type": "code",
   "execution_count": 37,
   "id": "49197806-2b79-4159-ad68-3ffa169e7752",
   "metadata": {},
   "outputs": [
    {
     "name": "stdin",
     "output_type": "stream",
     "text": [
      "entr a val :  4\n"
     ]
    },
    {
     "data": {
      "text/plain": [
       "2.0"
      ]
     },
     "execution_count": 37,
     "metadata": {},
     "output_type": "execute_result"
    }
   ],
   "source": [
    "# 11.1 Write a program to use the math library to calculate the square root of a given number.\n",
    "import math as m\n",
    "a=int(input(\"entr a val : \"))\n",
    "m.sqrt(a)"
   ]
  },
  {
   "cell_type": "code",
   "execution_count": 41,
   "id": "fc6ec71c-27d0-46c1-ac58-031a25e332d0",
   "metadata": {},
   "outputs": [
    {
     "name": "stdout",
     "output_type": "stream",
     "text": [
      "2025-01-13\n",
      "18:28:31.318200\n"
     ]
    }
   ],
   "source": [
    "#  11.2 Write a program to use the datetime library to print the current date and time.\n",
    "import datetime as dt\n",
    "print(dt.date.today())\n",
    "print(dt.datetime.now().time())"
   ]
  },
  {
   "cell_type": "code",
   "execution_count": 43,
   "id": "76ed1d28-c8c7-44ec-abc0-baed36e3539c",
   "metadata": {},
   "outputs": [
    {
     "name": "stdout",
     "output_type": "stream",
     "text": [
      "['.anaconda', '.arduinoIDE', '.conda', '.condarc', '.continuum', '.ipynb_checkpoints', '.ipython', '.jupyter', '.matplotlib', '.vscode', 'aff_motion.sh', 'anaconda3', 'AppData', 'Application Data', 'cifpts.sh', 'Contacts', 'Cookies', 'data16.csv', 'Day16 - Data Visualization (Part1 - Matplotlib).ipynb', 'Day17 - Data Visualization (Part2 - Seaborn).ipynb', 'Documents', 'Downloads', 'employees.csv', 'Favorites', 'gen_baltimore.sh', 'gen_warren.sh', 'geom2d_tests.sh', 'LICENSE.txt', 'Links', 'Local Settings', 'mechanics-master', 'Music', 'My Documents', 'nba16.csv', 'NetHood', 'new1.txt', 'NTUSER.DAT', 'ntuser.dat.LOG1', 'ntuser.dat.LOG2', 'NTUSER.DAT{cb300245-c76f-11ef-b008-9aa98cfbdbd6}.TM.blf', 'NTUSER.DAT{cb300245-c76f-11ef-b008-9aa98cfbdbd6}.TMContainer00000000000000000001.regtrans-ms', 'NTUSER.DAT{cb300245-c76f-11ef-b008-9aa98cfbdbd6}.TMContainer00000000000000000002.regtrans-ms', 'ntuser.ini', 'OneDrive', 'Pandas_Data Manipulation using Pandas (Part1 - Series and Data Frame).ipynb', 'PrintHood', 'README.md', 'Recent', 'run_tests.sh', 'sample.txt', 'Saved Games', 'Searches', 'SendTo', 'Start Menu', 'string_length.py', 'Templates', 'testImage.jpg', 'truss.sh', 'Untitled.ipynb', 'Untitled1.ipynb', 'Untitled2.ipynb', 'Videos', 'worksheet7a.ipynb']\n"
     ]
    }
   ],
   "source": [
    "# 11.3 Write a program to use the os library to list all files in the current directory\n",
    "import os as o\n",
    "currentdr=o.getcwd()\n",
    "allfiles=o.listdir(currentdr)\n",
    "print(allfiles)"
   ]
  },
  {
   "cell_type": "code",
   "execution_count": null,
   "id": "88ee3209-7b5d-4304-9935-576371849e47",
   "metadata": {},
   "outputs": [],
   "source": []
  }
 ],
 "metadata": {
  "kernelspec": {
   "display_name": "Python 3 (ipykernel)",
   "language": "python",
   "name": "python3"
  },
  "language_info": {
   "codemirror_mode": {
    "name": "ipython",
    "version": 3
   },
   "file_extension": ".py",
   "mimetype": "text/x-python",
   "name": "python",
   "nbconvert_exporter": "python",
   "pygments_lexer": "ipython3",
   "version": "3.12.4"
  }
 },
 "nbformat": 4,
 "nbformat_minor": 5
}
