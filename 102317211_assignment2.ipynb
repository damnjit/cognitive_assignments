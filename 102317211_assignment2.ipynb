{
 "cells": [
  {
   "cell_type": "raw",
   "id": "4eaf5dea-fb7b-4712-a593-bf5bed7d11af",
   "metadata": {},
   "source": [
    "1. Create a List L that is defined as= [10, 20, 30, 40, 50, 60, 70, 80]. \n",
    "WAP to add 200 and 300 to L. \n",
    "WAP to remove 10 and 30 from L. \n",
    "WAP to sort L in ascending order. \n",
    "WAP to sort L in descending order. "
   ]
  },
  {
   "cell_type": "code",
   "execution_count": 2,
   "id": "0f2384de-816f-4ff7-8006-365698af7a12",
   "metadata": {},
   "outputs": [
    {
     "name": "stdout",
     "output_type": "stream",
     "text": [
      "[10, 20, 30, 40, 50, 60, 70, 80, 200, 300]\n",
      "[20, 40, 50, 60, 70, 80, 200, 300]\n",
      "[20, 40, 50, 60, 70, 80, 200, 300]\n",
      "[300, 200, 80, 70, 60, 50, 40, 20]\n"
     ]
    }
   ],
   "source": [
    "L = [10, 20, 30, 40, 50, 60, 70, 80]\n",
    "\n",
    "#add 200 and 300\n",
    "L.append(200)\n",
    "L.append(300)\n",
    "print(L)\n",
    "\n",
    "#remove 10 and 30\n",
    "L.remove(10)\n",
    "L.remove(30)\n",
    "print(L)\n",
    "\n",
    "#sort in ascending order\n",
    "L.sort()\n",
    "print(L)\n",
    "\n",
    "#sort in descending order\n",
    "L.reverse()\n",
    "print(L)"
   ]
  },
  {
   "cell_type": "raw",
   "id": "12ab8f7e-261f-4cbd-a22d-fc4ff73dbea2",
   "metadata": {},
   "source": [
    "2. Create a tuple of marks scored as scores = (45, 89.5, 76, 45.4, 89, 92, 58, 45) and \n",
    "perform the following operations using tuple functions: \n",
    "i.Identify the highest score and its index in the tuple. \n",
    "ii.Find the lowest score and count how many times it appears. \n",
    "iiiReverse the tuple and return it as a list. \n",
    "iv.Check if a specific score ‘76’ (input by the user) is present in the tuple and \n",
    "print its first occurrence index, or a message saying it’s not present. "
   ]
  },
  {
   "cell_type": "code",
   "execution_count": 3,
   "id": "14523a5c-b623-4dd1-a541-3ac0b3f1b8e8",
   "metadata": {},
   "outputs": [
    {
     "name": "stdout",
     "output_type": "stream",
     "text": [
      "The highest score is 92 at index 5.\n",
      "The lowest score is 45 and it appears 2 times.\n",
      "The reversed tuple as a list: [45, 58, 92, 89, 45.4, 76, 89.5, 45]\n",
      "The score 76 is present at index 2.\n"
     ]
    }
   ],
   "source": [
    "scores = (45, 89.5, 76, 45.4, 89, 92, 58, 45)\n",
    "\n",
    "#highest score and its index \n",
    "highest_score = max(scores)\n",
    "highest_score_index = scores.index(highest_score)\n",
    "print(f\"The highest score is {highest_score} at index {highest_score_index}.\")\n",
    "\n",
    "#lowest score and count how many times it appears\n",
    "lowest_score = min(scores)\n",
    "lowest_score_count = scores.count(lowest_score)\n",
    "print(f\"The lowest score is {lowest_score} and it appears {lowest_score_count} times.\")\n",
    "\n",
    "# Reverse the tuple and returning as a list\n",
    "reversed_list = list(reversed(scores))\n",
    "print(f\"The reversed tuple as a list: {reversed_list}\")\n",
    "\n",
    "# iv. Check if a specific score (e.g., 76) is present and print its first occurrence index\n",
    "user_input = 76  \n",
    "if user_input in scores:\n",
    "    first_occurrence_index = scores.index(user_input)\n",
    "    print(f\"The score {user_input} is present at index {first_occurrence_index}.\")\n",
    "else:\n",
    "    print(f\"The score {user_input} is not present in the tuple.\")"
   ]
  },
  {
   "cell_type": "raw",
   "id": "fae74d6a-8f09-4512-9e3c-7fd98b9dddbc",
   "metadata": {},
   "source": [
    "3. WAP to create a list of 100 random numbers between 100 and 900. Count and print \n",
    "the: \n",
    "i. \n",
    "ii. \n",
    "iii. \n",
    "All odd numbers \n",
    "All even numbers \n",
    "All prime numbers "
   ]
  },
  {
   "cell_type": "code",
   "execution_count": 18,
   "id": "688dbad4-8823-48b2-ba67-5df2087f0d49",
   "metadata": {},
   "outputs": [
    {
     "name": "stdout",
     "output_type": "stream",
     "text": [
      "Odd numbers (54): [471, 443, 545, 771, 283, 877, 209, 241, 475, 517, 787, 777, 885, 351, 257, 273, 503, 727, 733, 809, 301, 283, 663, 235, 381, 227, 601, 831, 397, 687, 223, 855, 693, 735, 197, 157, 537, 255, 769, 597, 449, 325, 107, 899, 533, 339, 501, 795, 777, 899, 725, 879, 751, 797]\n",
      "Even numbers (46): [836, 758, 856, 720, 132, 366, 312, 802, 386, 272, 384, 280, 788, 132, 670, 546, 192, 406, 696, 188, 178, 708, 764, 296, 526, 312, 368, 100, 452, 788, 850, 858, 174, 436, 696, 414, 498, 260, 362, 650, 772, 160, 180, 738, 270, 232]\n",
      "Prime numbers (22): [443, 283, 877, 241, 787, 257, 503, 727, 733, 809, 283, 227, 601, 397, 223, 197, 157, 769, 449, 107, 751, 797]\n"
     ]
    }
   ],
   "source": [
    "import random as r\n",
    "mylist = []\n",
    "Odd = []\n",
    "Even = []\n",
    "Prime = []\n",
    "\n",
    "def isprime(num):\n",
    "    if num <= 1:\n",
    "        return False\n",
    "    for i in range(2, num):  \n",
    "        if num % i == 0:\n",
    "            return False\n",
    "    return True\n",
    "\n",
    "for _ in range(100):\n",
    "    mylist.append(r.randint(100, 900))\n",
    "\n",
    "for i in mylist:\n",
    "    if i % 2 == 0:\n",
    "        Even.append(i)\n",
    "    else:\n",
    "        Odd.append(i)\n",
    "\n",
    "    if isprime(i):\n",
    "        Prime.append(i)\n",
    "\n",
    "odd_count = len(Odd)\n",
    "even_count = len(Even)\n",
    "prime_count = len(Prime)\n",
    "\n",
    "print(f\"Odd numbers ({odd_count}): {Odd}\")\n",
    "print(f\"Even numbers ({even_count}): {Even}\")\n",
    "print(f\"Prime numbers ({prime_count}): {Prime}\")\n"
   ]
  },
  {
   "cell_type": "code",
   "execution_count": null,
   "id": "a91b9049-441e-43a3-b1d8-23cc85f131a3",
   "metadata": {},
   "outputs": [],
   "source": [
    "4. Consider the following two sets, A and B, representing scores of two teams in multiple \n",
    "matches.  A = {34, 56, 78, 90}  and B = {78, 45, 90, 23} \n",
    "WAP to perform the following opera ons using set func ons: \n",
    "i. Find the unique scores achieved by both teams (union of sets). \n",
    "ii. Identify the scores that are common to both teams (intersec on of sets). \n",
    "iii.Find the scores that are exclusive to each team (symmetric difference). \n",
    "iv.Check if the scores of team A are a subset of team B, and if team B's scores are \n",
    "a superset of team A. \n",
    "v.Remove a specific score 𝑋 (input by the user) from set A if it exists. If not, print \n",
    "a message saying it is not present. "
   ]
  },
  {
   "cell_type": "code",
   "execution_count": 20,
   "id": "06f02b26-4e67-46b9-b850-a8a5635623c5",
   "metadata": {},
   "outputs": [
    {
     "name": "stdout",
     "output_type": "stream",
     "text": [
      "union of sets is {34, 45, 78, 23, 56, 90}\n",
      "Intersection of sets is {90, 78}\n",
      "mmetric Difference is {34, 45, 23, 56}\n",
      "A is not subset of B\n",
      "B is superset of A\n"
     ]
    },
    {
     "name": "stdin",
     "output_type": "stream",
     "text": [
      "Enter a score to remove :  32\n"
     ]
    },
    {
     "name": "stdout",
     "output_type": "stream",
     "text": [
      "32 is not present in set A\n"
     ]
    }
   ],
   "source": [
    "A = {34, 56, 78, 90}\n",
    "B = {78, 45, 90, 23}\n",
    "\n",
    "print(f\"union of sets is {A | B}\")\n",
    "\n",
    "print(f\"Intersection of sets is {A & B}\")\n",
    "\n",
    "print(f\"mmetric Difference is {A ^ B}\")\n",
    "subset = A.issubset(B)\n",
    "superset = A.issuperset(A)\n",
    "\n",
    "if (subset):\n",
    "  print('A is subset of B')\n",
    "else:\n",
    "  print('A is not subset of B')\n",
    "\n",
    "if (superset):\n",
    "  print('B is superset of A')\n",
    "else:\n",
    "  print('B is not superset of A')\n",
    "\n",
    "Num = int(input('Enter a score to remove : '))\n",
    "if Num in A:\n",
    "  A.remove(Num)\n",
    "  print(f'{Num} has been removed from set A')\n",
    "else:\n",
    "  print(f'{Num} is not present in set A')\n",
    "     "
   ]
  },
  {
   "cell_type": "raw",
   "id": "d6f18702-48a0-40be-a61b-270ed49ab362",
   "metadata": {},
   "source": [
    "5.Write a program to rename a key city to a location in the following dictionary."
   ]
  },
  {
   "cell_type": "code",
   "execution_count": 23,
   "id": "907f67a3-0970-4efc-bb29-0426be7b3a25",
   "metadata": {},
   "outputs": [
    {
     "name": "stdout",
     "output_type": "stream",
     "text": [
      "updated dictionary is : {'name': 'Kelly', 'age': 21, 'salary': 10230, 'location': 'New York'}\n"
     ]
    }
   ],
   "source": [
    "dict = {\n",
    "    \"name\" : \"Kelly\",\n",
    "    \"age\" : 21,\n",
    "    \"salary\" : 10230,\n",
    "    \"city\" : \"New York\"\n",
    "}\n",
    "\n",
    "dict['location'] = dict.pop('city')\n",
    "\n",
    "print(\"updated dictionary is :\", dict)"
   ]
  },
  {
   "cell_type": "code",
   "execution_count": null,
   "id": "fdf75c0f-ca06-4408-aaf5-0bbf225899b5",
   "metadata": {},
   "outputs": [],
   "source": []
  }
 ],
 "metadata": {
  "kernelspec": {
   "display_name": "Python 3 (ipykernel)",
   "language": "python",
   "name": "python3"
  },
  "language_info": {
   "codemirror_mode": {
    "name": "ipython",
    "version": 3
   },
   "file_extension": ".py",
   "mimetype": "text/x-python",
   "name": "python",
   "nbconvert_exporter": "python",
   "pygments_lexer": "ipython3",
   "version": "3.13.1"
  }
 },
 "nbformat": 4,
 "nbformat_minor": 5
}
